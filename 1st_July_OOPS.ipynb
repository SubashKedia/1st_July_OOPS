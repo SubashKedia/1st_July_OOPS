{
 "cells": [
  {
   "cell_type": "markdown",
   "id": "fd65b939",
   "metadata": {},
   "source": [
    "1. What is the primary goal of Object-Oriented Programming (OOP)?\n",
    "\n",
    "The primary goal of Object-Oriented Programming (OOP) is to provide a modular and organized approach to software development. It aims to structure programs around objects that encapsulate data and behavior, allowing for easier comprehension, maintenance, and reusability of code.\n",
    "\n",
    "It encourages the creation of well-structured, understandable, and extensible codebases, which ultimately leads to improved productivity and efficiency in software development."
   ]
  },
  {
   "cell_type": "markdown",
   "id": "003aff40",
   "metadata": {},
   "source": [
    "2. What is an object in Python?\n",
    "\n",
    "In Python, an object is a fundamental concept that represents a specific instance of a class. It is a runtime entity that combines data (attributes) and behaviors (methods/functions) into a single entity. In simpler terms, an object is a tangible or conceptual entity that can be manipulated and interacted with in a Python program.\n",
    "\n",
    "Objects in Python have their own unique identity, state, and behavior, making them the building blocks of object-oriented programming in the language."
   ]
  },
  {
   "cell_type": "markdown",
   "id": "c7bacf29",
   "metadata": {},
   "source": [
    "3. What is a class in Python?\n",
    "\n",
    "In Python, a class is a blueprint or a template that defines the structure and behavior of objects. It is a way to create user-defined data types that encapsulate data (attributes) and functionality (methods) into a single unit.\n",
    "\n",
    "A class serves as a blueprint for creating instances (objects) that share similar characteristics and behaviors.Classes provide a way to organize and encapsulate related data and functions, promoting code reusability and maintainability. They are an essential component of object-oriented programming and are widely used in Python for creating objects and implementing various software design patterns."
   ]
  },
  {
   "cell_type": "markdown",
   "id": "165fa893",
   "metadata": {},
   "source": [
    "4. What are attributes and methods in a class?\n",
    "\n",
    "In a class, attributes and methods are the two fundamental components that define the structure and behavior of objects created from that class.\n",
    "\n",
    "Attributes: Attributes are the variables that store data associated with an object. They represent the state or characteristics of an object. In Python, attributes are defined within the class and accessed using the dot notation on objects.\n",
    "\n",
    "Methods: Methods are functions defined inside a class that define the behavior of objects. They represent the actions or operations that objects can perform. Methods are defined using the def keyword and can take arguments, including the special self parameter, which refers to the instance calling the method."
   ]
  },
  {
   "cell_type": "markdown",
   "id": "bceb4698",
   "metadata": {},
   "source": [
    "5. What is the difference between class variables and instance variables in Python?\n",
    "\n",
    "In Python, class variables and instance variables are two types of attributes that can be defined within a class. The main differences between them are as follows:\n",
    "\n",
    "Scope and Accessibility:\n",
    "   - Class variables: Class variables are shared among all instances of a class. They are defined at the class level, outside any methods. Class variables can be accessed and modified by all instances of the class as well as within class methods. They have a single copy that is shared across all instances.\n",
    "\n",
    "   - Instance variables: Instance variables are specific to each instance of a class. They are defined within methods, typically the constructor (`__init__` method), using the `self` keyword. Instance variables are unique to each object and can have different values for each instance.\n",
    "\n",
    "Initialization and Assignment:\n",
    "   - Class variables: Class variables are typically defined and assigned a value directly within the class definition. They are initialized once and retain their value across all instances of the class. Any modifications to class variables are visible to all instances.\n",
    "\n",
    "   - Instance variables: Instance variables are initialized and assigned values within instance methods, usually in the constructor (`__init__` method). Each instance can have different values for instance variables, as they are specific to that particular object.\n",
    "\n",
    "Accessing and Modifying:\n",
    "   - Class variables: Class variables can be accessed using the class name itself or any instance of the class. When accessed via an instance, the value is retrieved from the class. Class variables can also be modified using the class name or any instance, affecting all instances of the class.\n",
    "\n",
    "   - Instance variables: Instance variables are accessed and modified using the `self` keyword within instance methods. Each instance has its own copy of instance variables, and modifications made to them are specific to that instance only.\n",
    "\n",
    "It's important to note that if an instance variable has the same name as a class variable, the instance variable takes precedence within that instance. Changes made to the class variable will not affect the instance variable with the same name."
   ]
  },
  {
   "cell_type": "markdown",
   "id": "3e318a93",
   "metadata": {},
   "source": [
    "6. What is the purpose of the self parameter in Python class methods?\n",
    "\n",
    "In Python, the self parameter is a convention used in class methods to refer to the instance of the class itself. It acts as a reference to the object on which the method is being called. The self parameter is typically the first parameter in instance methods and is automatically passed when the method is invoked on an object.\n",
    "\n",
    "The purpose of the self parameter is to access and manipulate the instance variables and other attributes of the object within the method. By using self, you can refer to the specific instance of the class and perform operations on its data. It allows you to differentiate between instance variables of different objects and access them within the method.\n",
    "\n",
    "The self parameter is a naming convention, and you can choose any name for the first parameter of instance methods. However, it is recommended to use self to maintain consistency and improve code readability, as it is widely recognized by Python developers as the standard name for the instance reference."
   ]
  },
  {
   "cell_type": "markdown",
   "id": "c32a81cc",
   "metadata": {},
   "source": [
    "7. For a library management system, you have to design the \"Book\" class with OOP\n",
    "principles in mind. The “Book” class will have following attributes:\n",
    "a. title: Represents the title of the book.\n",
    "b. author: Represents the author(s) of the book.\n",
    "c. isbn: Represents the ISBN (International Standard Book Number) of the book.\n",
    "d. publication_year: Represents the year of publication of the book.\n",
    "e. available_copies: Represents the number of copies available for checkout.\n",
    "The class will also include the following methods:\n",
    "a. check_out(self): Decrements the available copies by one if there are copies\n",
    "available for checkout.\n",
    "b. return_book(self): Increments the available copies by one when a book is\n",
    "returned.\n",
    "c. display_book_info(self): Displays the information about the book, including its\n",
    "attributes and the number of available copies.\n"
   ]
  },
  {
   "cell_type": "code",
   "execution_count": 1,
   "id": "c05447a2",
   "metadata": {},
   "outputs": [],
   "source": [
    "# Solution to Question 7:\n",
    "class Book:\n",
    "    def __init__(self, title, author, isbn, publication_year, available_copies):\n",
    "        self.title = title\n",
    "        self.author = author\n",
    "        self.isbn = isbn\n",
    "        self.publication_year = publication_year\n",
    "        self.available_copies = available_copies\n",
    "        \n",
    "    def check_out(self):\n",
    "        if self.available_copies > 0:\n",
    "            self.available_copies = self.available_copies - 1\n",
    "            print(f\"Book {self.title} checked out successfully\")\n",
    "        else:\n",
    "            print(f\"Book {self.title} is not avaialable\")\n",
    "    \n",
    "    def return_book(self):\n",
    "        self.available_copies = self.available_copies + 1  \n",
    "        print(f\"Book {self.title} is available now\")\n",
    "                    \n",
    "    def display_book(self):\n",
    "        print(\"Book Information:\")\n",
    "        print(f\"Title: {self.title}\")\n",
    "        print(f\"Author(s): {self.author}\")\n",
    "        print(f\"ISBN: {self.isbn}\")\n",
    "        print(f\"Publication Year: {self.publication_year}\")\n",
    "        print(f\"Available Copies: {self.available_copies}\")"
   ]
  },
  {
   "cell_type": "code",
   "execution_count": 4,
   "id": "e9d117de",
   "metadata": {},
   "outputs": [],
   "source": [
    "book = Book(\"EI10x\", \"Subash\", 1234, 2019, 2)"
   ]
  },
  {
   "cell_type": "code",
   "execution_count": 5,
   "id": "403feb74",
   "metadata": {},
   "outputs": [
    {
     "name": "stdout",
     "output_type": "stream",
     "text": [
      "Book Information:\n",
      "Title: EI10x\n",
      "Author(s): Subash\n",
      "ISBN: 1234\n",
      "Publication Year: 2019\n",
      "Available Copies: 2\n"
     ]
    }
   ],
   "source": [
    "book.display_book()"
   ]
  },
  {
   "cell_type": "markdown",
   "id": "b7321565",
   "metadata": {},
   "source": [
    "8. For a ticket booking system, you have to design the \"Ticket\" class with OOP\n",
    "principles in mind. The “Ticket” class should have the following attributes:\n",
    "a. ticket_id: Represents the unique identifier for the ticket.\n",
    "b. event_name: Represents the name of the event.\n",
    "c. event_date: Represents the date of the event.\n",
    "d. venue: Represents the venue of the event.\n",
    "e. seat_number: Represents the seat number associated with the ticket.\n",
    "f. price: Represents the price of the ticket.\n",
    "g. is_reserved: Represents the reservation status of the ticket.\n",
    "The class also includes the following methods:\n",
    "a. reserve_ticket(self): Marks the ticket as reserved if it is not already reserved.\n",
    "b. cancel_reservation(self): Cancels the reservation of the ticket if it is already\n",
    "reserved.\n",
    "c. display_ticket_info(self): Displays the information about the ticket, including its\n",
    "attributes and reservation status"
   ]
  },
  {
   "cell_type": "code",
   "execution_count": 6,
   "id": "77320bac",
   "metadata": {},
   "outputs": [
    {
     "name": "stdout",
     "output_type": "stream",
     "text": [
      "Ticket 'T001' reserved successfully.\n",
      "Reservation for ticket 'T001' canceled successfully.\n",
      "Ticket Information:\n",
      "Ticket ID: T001\n",
      "Event Name: Concert\n",
      "Event Date: 2023-07-05\n",
      "Venue: Bengaluru\n",
      "Seat Number: A12\n",
      "Price: 19.0\n",
      "Reservation Status: Not Reserved\n"
     ]
    }
   ],
   "source": [
    "# Solution to Question 8:\n",
    "class Ticket:\n",
    "    def __init__(self, ticket_id, event_name, event_date, venue, seat_number, price):\n",
    "        self.ticket_id = ticket_id\n",
    "        self.event_name = event_name\n",
    "        self.event_date = event_date\n",
    "        self.venue = venue\n",
    "        self.seat_number = seat_number\n",
    "        self.price = price\n",
    "        self.is_reserved = False\n",
    "\n",
    "    def reserve_ticket(self):\n",
    "        if not self.is_reserved:\n",
    "            self.is_reserved = True\n",
    "            print(f\"Ticket '{self.ticket_id}' reserved successfully.\")\n",
    "        else:\n",
    "            print(f\"Ticket '{self.ticket_id}' is already reserved.\")\n",
    "\n",
    "    def cancel_reservation(self):\n",
    "        if self.is_reserved:\n",
    "            self.is_reserved = False\n",
    "            print(f\"Reservation for ticket '{self.ticket_id}' canceled successfully.\")\n",
    "        else:\n",
    "            print(f\"Ticket '{self.ticket_id}' is not currently reserved.\")\n",
    "\n",
    "    def display_ticket_info(self):\n",
    "        print(\"Ticket Information:\")\n",
    "        print(f\"Ticket ID: {self.ticket_id}\")\n",
    "        print(f\"Event Name: {self.event_name}\")\n",
    "        print(f\"Event Date: {self.event_date}\")\n",
    "        print(f\"Venue: {self.venue}\")\n",
    "        print(f\"Seat Number: {self.seat_number}\")\n",
    "        print(f\"Price: {self.price}\")\n",
    "        print(f\"Reservation Status: {'Reserved' if self.is_reserved else 'Not Reserved'}\")\n",
    "\n",
    "\n",
    "ticket1 = Ticket(\"T001\", \"Concert\", \"2023-07-05\", \"Bengaluru\", \"A12\", 19.0)\n",
    "\n",
    "# Reserving the ticket\n",
    "ticket1.reserve_ticket()\n",
    "\n",
    "# Canceling the reservation\n",
    "ticket1.cancel_reservation()\n",
    "\n",
    "# Displaying ticket information\n",
    "ticket1.display_ticket_info()"
   ]
  },
  {
   "cell_type": "markdown",
   "id": "f0489cb2",
   "metadata": {},
   "source": [
    "9. You are creating a shopping cart for an e-commerce website. Using OOP to model\n",
    "the \"ShoppingCart\" functionality the class should contain following attributes and\n",
    "methods:\n",
    "a. items: Represents the list of items in the shopping cart.\n",
    "The class also includes the following methods:\n",
    "a. add_item(self, item): Adds an item to the shopping cart by appending it to the\n",
    "list of items.\n",
    "b. remove_item(self, item): Removes an item from the shopping cart if it exists in\n",
    "the list.\n",
    "c. view_cart(self): Displays the items currently present in the shopping cart.\n",
    "d. clear_cart(self): Clears all items from the shopping cart by reassigning an\n",
    "empty list to the items attribute."
   ]
  },
  {
   "cell_type": "code",
   "execution_count": 7,
   "id": "3446be61",
   "metadata": {},
   "outputs": [
    {
     "name": "stdout",
     "output_type": "stream",
     "text": [
      "Item 'Shirt' added to the shopping cart.\n",
      "Item 'Jeans' added to the shopping cart.\n",
      "Item 'Shoes' added to the shopping cart.\n",
      "Item 'Jeans' removed from the shopping cart.\n",
      "Shopping Cart Items:\n",
      "Shirt\n",
      "Shoes\n",
      "The shopping cart has been cleared.\n",
      "The shopping cart is empty.\n"
     ]
    }
   ],
   "source": [
    "# Solution to Question 9:\n",
    "class ShoppingCart:\n",
    "    def __init__(self):\n",
    "        self.items = []\n",
    "\n",
    "    def add_item(self, item):\n",
    "        self.items.append(item)\n",
    "        print(f\"Item '{item}' added to the shopping cart.\")\n",
    "\n",
    "    def remove_item(self, item):\n",
    "        if item in self.items:\n",
    "            self.items.remove(item)\n",
    "            print(f\"Item '{item}' removed from the shopping cart.\")\n",
    "        else:\n",
    "            print(f\"Item '{item}' is not in the shopping cart.\")\n",
    "\n",
    "    def view_cart(self):\n",
    "        if self.items:\n",
    "            print(\"Shopping Cart Items:\")\n",
    "            for item in self.items:\n",
    "                print(item)\n",
    "        else:\n",
    "            print(\"The shopping cart is empty.\")\n",
    "\n",
    "    def clear_cart(self):\n",
    "        self.items = []\n",
    "        print(\"The shopping cart has been cleared.\")\n",
    "\n",
    "\n",
    "# Creating a ShoppingCart object\n",
    "cart = ShoppingCart()\n",
    "\n",
    "# Adding items to the cart\n",
    "cart.add_item(\"Shirt\")\n",
    "cart.add_item(\"Jeans\")\n",
    "cart.add_item(\"Shoes\")\n",
    "\n",
    "# Removing an item from the cart\n",
    "cart.remove_item(\"Jeans\")\n",
    "\n",
    "# Displaying the items in the cart\n",
    "cart.view_cart()\n",
    "\n",
    "# Clearing the cart\n",
    "cart.clear_cart()\n",
    "\n",
    "# Displaying the items in the cart after clearing\n",
    "cart.view_cart()"
   ]
  },
  {
   "cell_type": "markdown",
   "id": "0ef71eb6",
   "metadata": {},
   "source": [
    "10. Imagine a school management system. You have to design the \"Student\" class using\n",
    "OOP concepts.The “Student” class has the following attributes:\n",
    "a. name: Represents the name of the student.\n",
    "b. age: Represents the age of the student.\n",
    "c. grade: Represents the grade or class of the student.\n",
    "d. student_id: Represents the unique identifier for the student.\n",
    "e. attendance: Represents the attendance record of the student.\n",
    "The class should also include the following methods:\n",
    "a. update_attendance(self, date, status): Updates the attendance record of the\n",
    "student for a given date with the provided status (e.g., present or absent).\n",
    "b. get_attendance(self): Returns the attendance record of the student.\n",
    "c. get_average_attendance(self): Calculates and returns the average\n",
    "attendance percentage of the student based on their attendance record."
   ]
  },
  {
   "cell_type": "code",
   "execution_count": 10,
   "id": "b1aa1ddc",
   "metadata": {},
   "outputs": [
    {
     "name": "stdout",
     "output_type": "stream",
     "text": [
      "{'2023-07-01': 'present', '2023-07-02': 'absent', '2023-07-03': 'present'}\n",
      "Average Attendance: 66.66666666666666%\n"
     ]
    }
   ],
   "source": [
    "# Solution to Question 10:\n",
    "class Student:\n",
    "    def __init__(self, name, age, grade, student_id):\n",
    "        self.name = name\n",
    "        self.age = age\n",
    "        self.grade = grade\n",
    "        self.student_id = student_id\n",
    "        self.attendance = {}\n",
    "\n",
    "    def update_attendance(self, date, status):\n",
    "        self.attendance[date] = status\n",
    "\n",
    "    def get_attendance(self):\n",
    "        return self.attendance\n",
    "\n",
    "    def get_average_attendance(self):\n",
    "        total_days = len(self.attendance)\n",
    "        if total_days > 0:\n",
    "            present_days = sum(status == \"present\" for status in self.attendance.values())\n",
    "            attendance_percentage = (present_days / total_days) * 100\n",
    "            return attendance_percentage\n",
    "        else:\n",
    "            return 0\n",
    "# Creating a Student object\n",
    "student1 = Student(\"Subash Kedia\", 40, 1, \"NTPL2245\")\n",
    "\n",
    "# Updating attendance\n",
    "student1.update_attendance(\"2023-07-01\", \"present\")\n",
    "student1.update_attendance(\"2023-07-02\", \"absent\")\n",
    "student1.update_attendance(\"2023-07-03\", \"present\")\n",
    "\n",
    "# Getting attendance\n",
    "attendance_record = student1.get_attendance()\n",
    "print(attendance_record)\n",
    "\n",
    "# Getting average attendance\n",
    "average_attendance = student1.get_average_attendance()\n",
    "print(f\"Average Attendance: {average_attendance}%\")\n"
   ]
  },
  {
   "cell_type": "code",
   "execution_count": null,
   "id": "dc4aa621",
   "metadata": {},
   "outputs": [],
   "source": []
  }
 ],
 "metadata": {
  "kernelspec": {
   "display_name": "Python 3 (ipykernel)",
   "language": "python",
   "name": "python3"
  },
  "language_info": {
   "codemirror_mode": {
    "name": "ipython",
    "version": 3
   },
   "file_extension": ".py",
   "mimetype": "text/x-python",
   "name": "python",
   "nbconvert_exporter": "python",
   "pygments_lexer": "ipython3",
   "version": "3.10.9"
  }
 },
 "nbformat": 4,
 "nbformat_minor": 5
}
